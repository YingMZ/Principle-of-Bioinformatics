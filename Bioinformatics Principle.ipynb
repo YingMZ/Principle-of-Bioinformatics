{
 "cells": [
  {
   "cell_type": "markdown",
   "metadata": {},
   "source": [
    "# 生物信息学原理 上机作业"
   ]
  },
  {
   "cell_type": "markdown",
   "metadata": {},
   "source": [
    "作者：赵超  班级：生物信息1601  学号：2016317200510"
   ]
  },
  {
   "cell_type": "markdown",
   "metadata": {},
   "source": [
    "1、双序列联配算法，包括全局比对与局部比对，打分矩阵使用PAM250"
   ]
  },
  {
   "cell_type": "code",
   "execution_count": 1,
   "metadata": {},
   "outputs": [],
   "source": [
    "import numpy as np"
   ]
  },
  {
   "cell_type": "code",
   "execution_count": 4,
   "metadata": {},
   "outputs": [],
   "source": [
    "# 此为标准PAM250矩阵，为程序设计鲁棒性考虑，在此处作业中不使用\n",
    "\n",
    "# amino_acid = \"CSTPAGNDEQHRKMILVFYW\"\n",
    "# PAM250 = [[12,0,-2,-3,-2,-3,-4,-5,-5,-5,-3,-4,-5,-5,-2,-6,-2,-4,0,-8],\n",
    "#          [0,2,1,1,1,1,1,0,0,-1,-1,0,0,-2,-1,-3,-1,-3,-3,-2],\n",
    "#          [-2,1,3,0,1,0,0,0,0,-1,-1,-1,0,-1,0,-2,0,-3,-3,-5],\n",
    "#          [-3,1,0,6,1,-1,-1,-1,-1,0,0,0,-1,-2,-2,-3,-1,-5,-5,-6],\n",
    "#          [-2,1,1,1,2,1,0,0,0,0,-1,-2,-1,-1,-1,-2,0,-4,-3,-6],\n",
    "#          [-3,1,0,-1,1,5,0,1,0,-1,-2,-3,-2,-3,-3,-4,-1,-5,-5,-7],\n",
    "#          [-4,1,0,-1,0,0,2,2,1,1,2,0,1,-2,-2,-3,-2,-4,-2,-4],\n",
    "#          [-5,0,0,-1,0,1,2,4,3,2,1,-1,0,-3,-2,-4,-2,-6,-4,-7],\n",
    "#          [-5,0,0,-1,0,0,1,3,4,2,1,-1,0,-2,-2,-3,-2,-5,-4,-7],\n",
    "#          [-5,-1,-1,0,0,-1,1,2,2,4,3,1,1,-1,-2,-2,-2,-5,-4,-5],\n",
    "#          [-3,-1,-1,0,-1,-2,2,1,1,3,6,2,0,-2,-2,-2,-2,-2,0,-3],\n",
    "#          [-4,0,-1,0,-2,-3,0,-1,-1,1,2,6,3,0,-2,-3,-2,-4,-4,2],\n",
    "#          [-5,0,0,-1,-1,-2,1,0,0,1,0,3,5,0,-2,-3,-2,-5,-4,-3],\n",
    "#          [-5,-2,-1,-2,-1,-3,-2,-3,-2,-1,-2,0,0,6,2,4,2,0,-2,-4],\n",
    "#          [-2,-1,0,-2,-1,-3,-2,-2,-2,-2,-2,-2,-2,2,5,2,4,1,-1,-5],\n",
    "#          [-6,-3,-2,-3,-2,-4,-3,-4,-3,-2,-2,-3,-3,4,2,6,2,2,-1,-2],\n",
    "#          [-2,-1,0,-1,0,-1,-2,-2,-2,-2,-2,-2,-2,2,4,2,4,-1,-2,-6],\n",
    "#          [-4,-3,-3,-5,-4,-5,-4,-6,-5,-5,-2,-4,-5,0,1,2,-1,9,7,0],\n",
    "#          [0,-3,-3,-5,-3,-5,-2,-4,-4,-4,0,-4,-4,-2,-1,-1,-2,7,10,0],\n",
    "#          [-8,-2,-5,-6,-6,-7,-4,-7,-7,-5,-3,2,-3,-4,-5,-2,-6,0,0,17]]"
   ]
  },
  {
   "cell_type": "code",
   "execution_count": 5,
   "metadata": {},
   "outputs": [],
   "source": [
    "amino_acid = 'AEGHPW'\n",
    "PAM250 = [[5,-1,0,-2,-1,-3],\n",
    "        [-1,6,-3,0,-1,-2],\n",
    "        [0,-3,8,-2,-2,-3],\n",
    "        [-2,0,-2,10,-2,-3],\n",
    "        [-1,-1,-2,-2,10,-4],\n",
    "        [-3,-3,-3,-3,-4,15]]"
   ]
  },
  {
   "cell_type": "code",
   "execution_count": 9,
   "metadata": {},
   "outputs": [],
   "source": [
    "def NeedlemanWunsch(str_one, str_two, punish=8):\n",
    "    '''\n",
    "    此函数用于实现全局比对NeedlemanWunsch算法，函数无返回值，仅将最终比对结果输出\n",
    "    参数：\n",
    "    str_one：表示第一条序列，类型为字符串\n",
    "    str_two：表示第二条序列，类型为字符串\n",
    "    punish：表示罚分，默认值为8\n",
    "    '''\n",
    "    m = len(str_one) + 1        # i表示序列1的长度加上1，即得分矩阵的行数\n",
    "    n = len(str_two) + 1        # j表示序列2的长度加上1，即得分矩阵的列数\n",
    "    score = np.zeros((m,n), int)\n",
    "\n",
    "    for i in range(m):\n",
    "        for j in range(n):\n",
    "            if (i == 0 or j == 0):\n",
    "                score[i][j] = 0 - i * punish - j * punish\n",
    "            else:\n",
    "                insert = score[i][j-1] - punish\n",
    "                delete = score[i-1][j] - punish\n",
    "                match = score[i-1][j-1] + PAM250[amino_acid.index(str_one[i-1])][amino_acid.index(str_two[j-1])]\n",
    "                score[i][j] = max(insert, delete, match)\n",
    "    \n",
    "    Alignment_A = ''\n",
    "    Alignment_B = ''\n",
    "    x = m - 1\n",
    "    y = n - 1\n",
    "    while (x > 0 or y > 0):\n",
    "        if (x > 0 and y > 0 and score[x][y] == score[x-1][y-1] + PAM250[amino_acid.index(str_one[x-1])][amino_acid.index(str_two[y-1])]):\n",
    "            Alignment_A = str_one[x-1] + Alignment_A\n",
    "            Alignment_B = str_two[y-1] + Alignment_B\n",
    "            x = x - 1\n",
    "            y = y - 1\n",
    "        elif (x > 0 and score[x][y] == score[x-1][y] - punish):\n",
    "            Alignment_A = str_one[x-1] + Alignment_A\n",
    "            Alignment_B = '-' + Alignment_B\n",
    "            x = x - 1\n",
    "        else:\n",
    "            Alignment_A = '-' + Alignment_A\n",
    "            Alignment_B = str_two[y-1] + Alignment_B\n",
    "            y = y - 1\n",
    "    print(\"全局序列比对结果：\")\n",
    "    print(\"===================\")\n",
    "    print(Alignment_A)\n",
    "    print(Alignment_B)"
   ]
  },
  {
   "cell_type": "code",
   "execution_count": 10,
   "metadata": {},
   "outputs": [
    {
     "name": "stdout",
     "output_type": "stream",
     "text": [
      "全局序列比对结果：\n",
      "===================\n",
      "AGWGAHEA-\n",
      "PAWHEAEAG\n"
     ]
    }
   ],
   "source": [
    "P1 = 'AGWGAHEA'\n",
    "P2 = 'PAWHEAEAG'\n",
    "NeedlemanWunsch(P1,P2)"
   ]
  },
  {
   "cell_type": "code",
   "execution_count": 11,
   "metadata": {},
   "outputs": [],
   "source": [
    "def SmithWaterman(str_one, str_two, punish=8):\n",
    "    '''\n",
    "    此函数用于实现全局比对SmithWaterman算法，函数无返回值，仅将最终比对结果输出\n",
    "    参数：\n",
    "    str_one：表示第一条序列，类型为字符串\n",
    "    str_two：表示第二条序列，类型为字符串\n",
    "    punish：表示罚分，默认值为8\n",
    "    '''\n",
    "    m = len(str_one) + 1        # i表示序列1的长度加上1，即得分矩阵的行数\n",
    "    n = len(str_two) + 1        # j表示序列2的长度加上1，即得分矩阵的列数\n",
    "    score = np.zeros((m,n), int)\n",
    "    for i in range(m):\n",
    "        for j in range(n):\n",
    "            if (i == 0 or j == 0):\n",
    "                continue\n",
    "            else:\n",
    "                match = score[i-1][j-1] + PAM250[amino_acid.index(str_one[i-1])][amino_acid.index(str_two[j-1])]\n",
    "                insert = score[i][j-1] - punish\n",
    "                delete = score[i-1][j] - punish\n",
    "                score[i][j] = max(insert, delete, match, 0)\n",
    "    \n",
    "    \n",
    "    max_score = np.max(score)\n",
    "    for i in range(m):\n",
    "        for j in range(n):\n",
    "            if (score[i][j] == max_score):\n",
    "                Alignment_A = ''\n",
    "                Alignment_B = ''\n",
    "                x = i \n",
    "                y = j\n",
    "                while (score[x][y] != 0):\n",
    "                    if (x > 0 and y > 0 and score[x][y] == score[x-1][y-1] + PAM250[amino_acid.index(str_one[x-1])][amino_acid.index(str_two[y-1])]):\n",
    "                        Alignment_A = str_one[x-1] + Alignment_A\n",
    "                        Alignment_B = str_two[y-1] + Alignment_B\n",
    "                        x = x - 1\n",
    "                        y = y - 1\n",
    "                    elif (x > 0 and score[x][y] == score[x-1][y] - punish):\n",
    "                        Alignment_A = str_one[x-1] + Alignment_A\n",
    "                        Alignment_B = '-' + Alignment_B\n",
    "                        x = x - 1\n",
    "                    else:\n",
    "                        Alignment_A = '-' + Alignment_A\n",
    "                        Alignment_B = str_two[y-1] + Alignment_B\n",
    "                        y = y - 1\n",
    "                print(\"局部序列比对结果：\")\n",
    "                print(\"===================\")\n",
    "                print(Alignment_A)\n",
    "                print(Alignment_B)"
   ]
  },
  {
   "cell_type": "code",
   "execution_count": 12,
   "metadata": {},
   "outputs": [
    {
     "name": "stdout",
     "output_type": "stream",
     "text": [
      "局部序列比对结果：\n",
      "===================\n",
      "HEA\n",
      "HEA\n",
      "局部序列比对结果：\n",
      "===================\n",
      "WGAHEA\n",
      "WHEAEA\n"
     ]
    }
   ],
   "source": [
    "P1 = 'AGWGAHEA'\n",
    "P2 = 'PAWHEAEAG'\n",
    "SmithWaterman(P1,P2)"
   ]
  },
  {
   "cell_type": "markdown",
   "metadata": {},
   "source": [
    "2、用贪婪法和非循环子图拓扑排序方法实现几条序列的组装"
   ]
  },
  {
   "cell_type": "code",
   "execution_count": 1,
   "metadata": {},
   "outputs": [],
   "source": [
    "import numpy as np"
   ]
  },
  {
   "cell_type": "code",
   "execution_count": 2,
   "metadata": {},
   "outputs": [],
   "source": [
    "# w,z,u,x,y表示待组装序列，类型为字符串，Alignment为列表，序列元素为待组装序列\n",
    "\n",
    "w = 'AGTATTGGCAATC'\n",
    "z = 'AATCGATG'\n",
    "u = 'ATGCAAACCT'\n",
    "x = 'CCTTTTGG'\n",
    "y = 'TTGGCAATCACT'\n",
    "\n",
    "Alignment = [w, z, u, x, y]"
   ]
  },
  {
   "cell_type": "code",
   "execution_count": 3,
   "metadata": {},
   "outputs": [],
   "source": [
    "def overlap(string):  \n",
    "    '''\n",
    "    此函数的作用为得到覆盖多图，返回一个列表，列表的元素为元组，每一个元组代表一条边，第一个元素为起始点在\n",
    "    参数中的index，第二个元素为终点在参数中的index，第三个元素为权重\n",
    "    参数：\n",
    "    string：为列表，列表中的元素为待组装序列\n",
    "    '''\n",
    "    degree = []\n",
    "    for i in range(len(string)):\n",
    "        i_len = len(string[i])\n",
    "        for j in range(len(string)):\n",
    "            if (i == j):\n",
    "                continue\n",
    "            else:\n",
    "                t = -1\n",
    "                while(t + i_len >= 0):\n",
    "                    if(string[j][0] == string[i][t]):\n",
    "                        t_abs = -t\n",
    "                        for k in range(t_abs):\n",
    "                            if(string[j][k] != string[i][t+k]):\n",
    "                                t = t - 1\n",
    "                                break\n",
    "                            if(k == t_abs - 1):\n",
    "                                degree.append((i,j,t_abs))\n",
    "                                t = t - 1\n",
    "                                break\n",
    "                    else:\n",
    "                        t = t - 1\n",
    "                        continue\n",
    "    return degree"
   ]
  },
  {
   "cell_type": "code",
   "execution_count": 4,
   "metadata": {},
   "outputs": [
    {
     "data": {
      "text/plain": [
       "[(0, 1, 4), (0, 3, 1), (0, 4, 9), (1, 2, 3), (2, 3, 3), (2, 4, 1), (3, 4, 4)]"
      ]
     },
     "execution_count": 4,
     "metadata": {},
     "output_type": "execute_result"
    }
   ],
   "source": [
    "overlap(Alignment)"
   ]
  },
  {
   "cell_type": "code",
   "execution_count": 5,
   "metadata": {},
   "outputs": [],
   "source": [
    "def TopologicalSorting(string, t=3):\n",
    "    '''\n",
    "    此函数实现拓扑排序，返回值为组装好的序列，类型为字符串\n",
    "    参数：\n",
    "    string：为列表，列表中的元素为待组装序列\n",
    "    t：从覆盖多图得到覆盖图的阈值\n",
    "    '''\n",
    "    degree = overlap(string)                        # 得到覆盖多图\n",
    "    for i in degree[::-1]:                          # 以t为阈值，得到覆盖图\n",
    "        if(i[2] < t):\n",
    "            degree.remove(i)\n",
    "    \n",
    "    # 计算出所有节点的入度\n",
    "    in_degree_np = np.zeros(len(string), int)\n",
    "    in_degree = in_degree_np.tolist()               # 转换成列表是因为np数组没有index方法\n",
    "    before_node = -1\n",
    "    new_node = -1\n",
    "    for edge in degree:\n",
    "        in_degree[edge[1]] += 1\n",
    "        \n",
    "        \n",
    "    before_node = in_degree.index(0)\n",
    "    in_degree[before_node] = -1\n",
    "    Target_Alignment = string[before_node]\n",
    "    for edge in degree:\n",
    "        if(edge[0] == before_node):\n",
    "            in_degree[edge[1]] -= 1\n",
    "            \n",
    "            \n",
    "    while(not all(in_degree)):\n",
    "        new_node = in_degree.index(0)\n",
    "        sentry = -1\n",
    "        in_degree[new_node] = -1\n",
    "        for edge in degree:\n",
    "            if(edge[0] == new_node):\n",
    "                in_degree[edge[1]] -= 1\n",
    "        for edge in degree:\n",
    "            if(edge[0] == before_node and edge[1] == new_node):\n",
    "                Target_Alignment += string[new_node][edge[2]:]\n",
    "                sentry = 0\n",
    "        if(sentry == -1):\n",
    "            Target_Alignment += string[new_node]\n",
    "        before_node = new_node\n",
    "                \n",
    "    return Target_Alignment"
   ]
  },
  {
   "cell_type": "code",
   "execution_count": 6,
   "metadata": {},
   "outputs": [
    {
     "data": {
      "text/plain": [
       "'AGTATTGGCAATCGATGCAAACCTTTTGGCAATCACT'"
      ]
     },
     "execution_count": 6,
     "metadata": {},
     "output_type": "execute_result"
    }
   ],
   "source": [
    "TopologicalSorting(Alignment)"
   ]
  },
  {
   "cell_type": "code",
   "execution_count": 7,
   "metadata": {},
   "outputs": [],
   "source": [
    "def GreedyAlgorithm(string):\n",
    "    '''\n",
    "    此函数实现贪婪算法组装序列，返回值为组装好的序列，类型为字符串\n",
    "    参数：\n",
    "    string：为列表，列表中的元素为待组装序列\n",
    "    '''\n",
    "    degree = overlap(string)\n",
    "    in_degree_np = np.zeros(len(string), int)      # 初始化所有节点的入度为0\n",
    "    in_degree = in_degree_np.tolist()\n",
    "    \n",
    "    out_degree_np = np.zeros(len(string), int)     # 初始化所有节点的出度为0\n",
    "    out_degree = out_degree_np.tolist()\n",
    "    \n",
    "    for i in range(len(string)):\n",
    "        for j in range(len(string)):\n",
    "            sentry = 0\n",
    "            for edge in degree:\n",
    "                if(edge[0] == i and edge[1] == j):\n",
    "                    sentry = 1\n",
    "                    break\n",
    "            if (sentry == 0):\n",
    "                degree.append((i, j, 0))\n",
    "                \n",
    "    degree_sorted = sorted(degree, key = lambda x:(x[2], x[0], x[1]), reverse=True)  \n",
    "    # 对所有的边按照权重排序\n",
    "    \n",
    "    Hamilton = []                              # 存储最后的哈密顿路径\n",
    "    \n",
    "    \n",
    "    # 此函数用于判别图中是否有回路\n",
    "    def is_pulse(in_degree, out_degree, degree):\n",
    "        is_visited = np.zeros(len(in_degree), int)    # 存储是否被访问过，0表示未被访问，1表示已被访问\n",
    "        start_node = -1\n",
    "        while(not all(is_visited)):\n",
    "            for i in range(len(in_degree)):\n",
    "                if(i > start_node):\n",
    "\n",
    "                    start_node = i\n",
    "                    is_visited[start_node] = 1\n",
    "                    break\n",
    "                \n",
    "\n",
    "            now_node = start_node\n",
    "            while(out_degree[now_node] != 0):\n",
    "                for edge in degree:\n",
    "                    if(edge[0] == now_node):\n",
    "                        if(is_visited[edge[1]] == 1):\n",
    "                            return True              # 有回路，返回True\n",
    "                        else:\n",
    "                            is_visited[edge[1]] = 1\n",
    "                            now_node = edge[1]\n",
    "                            break\n",
    "                if(now_node == start_node):     # 如果当前节点仍然等于开始节点，则跳出循环\n",
    "                    break\n",
    "                    \n",
    "                    \n",
    "\n",
    "        if(all(is_visited)):\n",
    "            return False        \n",
    "    \n",
    "    # 贪婪算法，依次选取最大的边，且每个点的入度出度都不大于1，路径中无回路\n",
    "    for edge in degree_sorted:\n",
    "        if(in_degree[edge[1]] == 0 and out_degree[edge[0]] == 0):\n",
    "            Hamilton.append(edge)\n",
    "            in_degree[edge[1]] = 1\n",
    "            out_degree[edge[0]] = 1\n",
    "            if(is_pulse(in_degree, out_degree, Hamilton)):\n",
    "                Hamilton.remove(edge)\n",
    "                in_degree[edge[1]] = 0\n",
    "                out_degree[edge[0]] = 0\n",
    "    \n",
    "    # 将哈密顿路径组装为序列\n",
    "    start_alignment = in_degree.index(0)\n",
    "    now_alignment = start_alignment\n",
    "    TargetAlignment = string[start_alignment]\n",
    "    for i in range(len(string) - 1):\n",
    "        for edge in Hamilton:\n",
    "            if(edge[0] == now_alignment):\n",
    "                TargetAlignment += string[edge[1]][edge[2]:]\n",
    "                now_alignment = edge[1]\n",
    "    return TargetAlignment"
   ]
  },
  {
   "cell_type": "code",
   "execution_count": 8,
   "metadata": {},
   "outputs": [
    {
     "data": {
      "text/plain": [
       "'AGTATTGGCAATCACTAATCGATGCAAACCTTTTGG'"
      ]
     },
     "execution_count": 8,
     "metadata": {},
     "output_type": "execute_result"
    }
   ],
   "source": [
    "GreedyAlgorithm(Alignment)"
   ]
  },
  {
   "cell_type": "markdown",
   "metadata": {},
   "source": [
    "3、从给定的fna 中提取ptt文件中标注的位置和正反链信息，编程实现寻找注释基因的核酸序列（输出到文件，并统计起始密码子个数），然后将每条核酸序列翻译成氨基酸序列并输出到文件。"
   ]
  },
  {
   "cell_type": "code",
   "execution_count": 20,
   "metadata": {},
   "outputs": [],
   "source": [
    "import re"
   ]
  },
  {
   "cell_type": "code",
   "execution_count": 21,
   "metadata": {},
   "outputs": [],
   "source": [
    "StartCodon = {}             # 存储起始密码子及其个数\n",
    "genetic_code = {\n",
    "    'T': {\n",
    "        'T': {'T': 'F', 'C': 'F', 'A': 'L', 'G': 'L'},\n",
    "        'C': {'T': 'S', 'C': 'S', 'A': 'S', 'G': 'S'},\n",
    "        'A': {'T': 'Y', 'C': 'Y', 'A': '', 'G': ''},\n",
    "        'G': {'T': 'C', 'C': 'C', 'A': '', 'G': 'W'}\n",
    "    },\n",
    "    'C': {\n",
    "        'T': {'T': 'L', 'C': 'L', 'A': 'L', 'G': 'L'},\n",
    "        'C': {'T': 'P', 'C': 'P', 'A': 'P', 'G': 'P'},\n",
    "        'A': {'T': 'H', 'C': 'H', 'A': 'Q', 'G': 'Q'},\n",
    "        'G': {'T': 'R', 'C': 'R', 'A': 'R', 'G': 'R'}\n",
    "    },\n",
    "    'A': {\n",
    "        'T': {'T': 'I', 'C': 'I', 'A': 'I', 'G': 'M'},\n",
    "        'C': {'T': 'T', 'C': 'T', 'A': 'T', 'G': 'T'},\n",
    "        'A': {'T': 'N', 'C': 'N', 'A': 'K', 'G': 'K'},\n",
    "        'G': {'T': 'S', 'C': 'S', 'A': 'R', 'G': 'R'}\n",
    "    },\n",
    "    'G': {\n",
    "        'T': {'T': 'V', 'C': 'V', 'A': 'V', 'G': 'V'},\n",
    "        'C': {'T': 'A', 'C': 'A', 'A': 'A', 'G': 'A'},\n",
    "        'A': {'T': 'D', 'C': 'D', 'A': 'E', 'G': 'E'},\n",
    "        'G': {'T': 'G', 'C': 'G', 'A': 'G', 'G': 'G'}\n",
    "    }\n",
    "                }"
   ]
  },
  {
   "cell_type": "code",
   "execution_count": 22,
   "metadata": {},
   "outputs": [],
   "source": [
    "with open(r\"C:\\Users\\hzauz\\Desktop\\BioinformaticsProjectData\\data\\NC_006270.fna\") as fna:\n",
    "    with open(r\"C:\\Users\\hzauz\\Desktop\\BioinformaticsProjectData\\data\\NC_006270.ptt\") as ptt:\n",
    "        # 以下为读取fna文件操作\n",
    "        is_first_line = True\n",
    "        chromosome = ''\n",
    "        DNA = ''\n",
    "        cDNA = ''\n",
    "        for line in fna.readlines():\n",
    "            if(is_first_line):\n",
    "                chromosome = line.split()[0]\n",
    "                is_first_line = False\n",
    "                continue\n",
    "            DNA += line.strip()\n",
    "        for i in DNA:\n",
    "            if i == 'A':\n",
    "                cDNA += 'T'\n",
    "            elif i == 'T':\n",
    "                cDNA += 'A'\n",
    "            elif i == 'C':\n",
    "                cDNA += 'G'\n",
    "            elif i == 'G':\n",
    "                cDNA += 'C'\n",
    "        cDNA = cDNA[::-1]\n",
    "        DNA_length = len(DNA)\n",
    "\n",
    "        with open(r\"C:\\Users\\hzauz\\Desktop\\BioinformaticsProjectData\\data\\NC_006270_alignment.txt\", \"w\") as txt:\n",
    "            with open(r\"C:\\Users\\hzauz\\Desktop\\BioinformaticsProjectData\\data\\NC_006270_protein.txt\", \"w\") as pro:\n",
    "                line_num = 0\n",
    "                for line in ptt.readlines():\n",
    "                    line_num += 1\n",
    "                    if(line_num > 3):\n",
    "                        line_split = line.split()\n",
    "                        matchOBJ = re.match(r'(.*)\\.\\.(.*)',line_split[0])\n",
    "                        if(line_split[1] == '+'):\n",
    "                            txt.write(chromosome + matchOBJ.group(1) + '-' + matchOBJ.group(2)+ ' ' + str(line_split[8:]) + '\\n')\n",
    "                            pro.write(chromosome + matchOBJ.group(1) + '-' + matchOBJ.group(2)+ ' ' + str(line_split[8:]) + '\\n')\n",
    "\n",
    "                            sub_DNA = DNA[int(matchOBJ.group(1))-1:int(matchOBJ.group(2))]\n",
    "                            startcodon = sub_DNA[0:3]\n",
    "                            try:\n",
    "                                StartCodon[startcodon]\n",
    "                            except:\n",
    "                                StartCodon[startcodon] = 1\n",
    "                            else:\n",
    "                                StartCodon[startcodon] += 1\n",
    "                            txt.write(sub_DNA + '\\n')\n",
    "                            base_index = 0\n",
    "                            while(base_index < len(sub_DNA)):\n",
    "                                aa = genetic_code[sub_DNA[base_index]][sub_DNA[base_index+1]][sub_DNA[base_index+2]]\n",
    "                                if(aa != ''):\n",
    "                                    pro.write(aa)\n",
    "                                else:\n",
    "                                    break\n",
    "                                base_index += 3\n",
    "                            pro.write('\\n')    \n",
    "                        else:\n",
    "                            txt.write(chromosome + 'c' + matchOBJ.group(2) + '-' + matchOBJ.group(1)+ ' ' + str(line_split[8:]) + '\\n')\n",
    "                            pro.write(chromosome + 'c' + matchOBJ.group(2) + '-' + matchOBJ.group(1)+ ' ' + str(line_split[8:]) + '\\n')                            \n",
    "                            sub_DNA = cDNA[DNA_length-int(matchOBJ.group(2)):DNA_length-int(matchOBJ.group(1))+1]\n",
    "                            startcondon = sub_DNA[0:3]\n",
    "                            try:\n",
    "                                StartCodon[startcodon]\n",
    "                            except:\n",
    "                                StartCodon[startcodon] = 1\n",
    "                            else:\n",
    "                                StartCodon[startcodon] += 1\n",
    "                            base_index = 0\n",
    "                            while(base_index < len(sub_DNA)):\n",
    "                                aa = genetic_code[sub_DNA[base_index]][sub_DNA[base_index+1]][sub_DNA[base_index+2]]\n",
    "                                if(aa != ''):\n",
    "                                    pro.write(aa)\n",
    "                                else:\n",
    "                                    break\n",
    "                                base_index += 3\n",
    "                            pro.write('\\n')\n",
    "                            \n",
    "                            txt.write(sub_DNA + '\\n')"
   ]
  },
  {
   "cell_type": "code",
   "execution_count": 23,
   "metadata": {},
   "outputs": [
    {
     "data": {
      "text/plain": [
       "{'ATG': 3145, 'ATT': 1, 'GTG': 414, 'TTG': 613}"
      ]
     },
     "execution_count": 23,
     "metadata": {},
     "output_type": "execute_result"
    }
   ],
   "source": [
    "StartCodon"
   ]
  },
  {
   "cell_type": "markdown",
   "metadata": {},
   "source": [
    "4、编程实现Fisher判别"
   ]
  },
  {
   "cell_type": "code",
   "execution_count": 9,
   "metadata": {},
   "outputs": [],
   "source": [
    "from scipy.linalg import solve"
   ]
  },
  {
   "cell_type": "code",
   "execution_count": 10,
   "metadata": {},
   "outputs": [],
   "source": [
    "def Fisher(postive_file, negative_file):\n",
    "    '''\n",
    "    此函数实现Fisher判别，返回值为Fisher对象，可用于in_use函数进行判别\n",
    "    参数：\n",
    "    postive_file：正样本文件地址\n",
    "    negative_file：负样本文件地址\n",
    "    '''\n",
    "    positive_sample = []\n",
    "    negative_sample = []\n",
    "    with open(positive_file, encoding='UTF-8',errors='ignore') as f:\n",
    "        for line in f.readlines():\n",
    "            line_split = line.split()\n",
    "            line_int = []\n",
    "            for i in line_split:\n",
    "                line_int.append(float(i))\n",
    "            positive_sample.append(line_int)\n",
    "    with open(negative_file, encoding='UTF-8',errors='ignore') as f:\n",
    "        for line in f.readlines():\n",
    "            line_split = line.split()\n",
    "            line_int = []\n",
    "            for i in line_split:\n",
    "                line_int.append(float(i))\n",
    "            negative_sample.append(line_int)\n",
    "        \n",
    "    positive_sample_np = np.array(positive_sample)\n",
    "    negative_sample_np = np.array(negative_sample)\n",
    "    \n",
    "    p = positive_sample_np.shape[0]\n",
    "    q = negative_sample_np.shape[0]\n",
    "    \n",
    "    pos_x_sum = np.sum(positive_sample_np, 0)\n",
    "    neg_x_sum = np.sum(negative_sample_np, 0)\n",
    "    \n",
    "    pos_x_average = pos_x_sum / p\n",
    "    neg_x_average = neg_x_sum / q\n",
    "    \n",
    "    pos_x_sum_mat = np.mat(pos_x_sum)\n",
    "    neg_x_sum_mat = np.mat(neg_x_sum)\n",
    "    \n",
    "    d = pos_x_average - neg_x_average\n",
    "    \n",
    "    pos_xx_sum = np.dot(positive_sample_np.T, positive_sample_np)\n",
    "    neg_xx_sum = np.dot(negative_sample_np.T, negative_sample_np)\n",
    "    \n",
    "    S = pos_xx_sum - np.dot(pos_x_sum_mat.T, pos_x_sum_mat) / p + neg_xx_sum - np.dot(neg_x_sum_mat.T, neg_x_sum_mat) / q\n",
    "    \n",
    "    try:\n",
    "        C = solve(S, d)\n",
    "    except:\n",
    "        print(\"该数据无法进行Fisher判别\")\n",
    "    else:\n",
    "        y_pos = np.dot(C, pos_x_average)\n",
    "        y_neg = np.dot(C, neg_x_average)\n",
    "        threshold = (p * y_pos + q * y_neg) / (p + q)\n",
    "        if y_pos > y_neg:\n",
    "            return(C, threshold, 1)          # 返回一个Fisher对象\n",
    "        else:\n",
    "            return(C, threshold, 0)"
   ]
  },
  {
   "cell_type": "code",
   "execution_count": 11,
   "metadata": {},
   "outputs": [],
   "source": [
    "def in_use(fisher, sample):                  \n",
    "    '''\n",
    "    此函数实现对其他数据进行判别，属于正样品返回True，否则返回False\n",
    "    参数：\n",
    "    fisher：fihser对象，为Fisher函数的返回值\n",
    "    sample：样本，类型为列表\n",
    "    '''\n",
    "    y = np.dot(fisher[0], sample)\n",
    "#     print(fisher)\n",
    "    if(fisher[2] == 1):\n",
    "        if(y > fisher[1]):\n",
    "            print(\"这个样本是属于正样本类\")\n",
    "            return True\n",
    "        else:\n",
    "            print(\"这个样本是属于负样本类\")\n",
    "            return False\n",
    "    else:\n",
    "        if(y > fisher[1]):\n",
    "            print(\"这个样本是属于负样本类\")\n",
    "            return False\n",
    "        else:\n",
    "            print(\"这个样本是属于正样本类\")\n",
    "            return True"
   ]
  },
  {
   "cell_type": "code",
   "execution_count": 12,
   "metadata": {},
   "outputs": [
    {
     "name": "stdout",
     "output_type": "stream",
     "text": [
      "这个样本是属于正样本类\n"
     ]
    },
    {
     "data": {
      "text/plain": [
       "True"
      ]
     },
     "execution_count": 12,
     "metadata": {},
     "output_type": "execute_result"
    }
   ],
   "source": [
    "positive_file = r\"C:\\Users\\hzauz\\Desktop\\BioinformaticsProjectData\\Fisher\\Fisher-positive.txt\"\n",
    "negative_file = r\"C:\\Users\\hzauz\\Desktop\\BioinformaticsProjectData\\Fisher\\Fisher-negative.txt\"\n",
    "fisher = Fisher(positive_file, negative_file)\n",
    "\n",
    "sample = [-0.2029, 0.1159, 0.2174, 7.0435, -0.1159, -0.6087, 9.2899, 0.2174, -0.2319, -0.0638]\n",
    "in_use(fisher, sample)\n",
    "# positive_sample = []\n",
    "# with open(negative_file, encoding='UTF-8',errors='ignore') as f:\n",
    "#         for line in f.readlines():\n",
    "#             line_split = line.split()\n",
    "#             line_int = []\n",
    "#             for i in line_split:\n",
    "#                 line_int.append(float(i))\n",
    "#             positive_sample.append(line_int)\n",
    "# for i in range(len(positive_sample)):\n",
    "#     in_use(fisher, positive_sample[i])"
   ]
  },
  {
   "cell_type": "markdown",
   "metadata": {},
   "source": [
    "5、编程实现K-means聚类"
   ]
  },
  {
   "cell_type": "code",
   "execution_count": 31,
   "metadata": {},
   "outputs": [],
   "source": [
    "import math\n",
    "import numpy as np\n",
    "import pandas as pd\n",
    "import matplotlib.pyplot as plt\n",
    "import seaborn as sns"
   ]
  },
  {
   "cell_type": "code",
   "execution_count": 32,
   "metadata": {},
   "outputs": [],
   "source": [
    "def Graph(node_set, node_cluster):\n",
    "    '''\n",
    "    此函数的作用是将聚类后的点画出来\n",
    "    参数：\n",
    "    node_set：点集，类型为二维列表，存储每一个点的坐标\n",
    "    node_cluster：类型为列表，元素值为int，代表每个点的分类\n",
    "    '''\n",
    "    node_set = np.array(node_set)\n",
    "    node_cluster = np.array(node_cluster)\n",
    "    df = pd.DataFrame({\n",
    "        'Y': node_set[:,1],\n",
    "        'X': node_set[:,0],\n",
    "        'Cluster': node_cluster\n",
    "    })\n",
    "\n",
    "    fg = sns.FacetGrid(data=df, hue='Cluster')\n",
    "    fg.map(plt.scatter, 'X', 'Y').add_legend()\n",
    "    plt.show()"
   ]
  },
  {
   "cell_type": "code",
   "execution_count": 35,
   "metadata": {},
   "outputs": [],
   "source": [
    "def kmeans(sample_file, k=3, D_min=3, d_max=4):\n",
    "    '''\n",
    "    此函数实现kmeans聚类，聚类结果以图表的形式画出，无返回值\n",
    "    参数：\n",
    "    sample_file：数据集地址\n",
    "    k：给定初始k值，用于聚类\n",
    "    D_min：所有种子点间的距离应大于此值\n",
    "    d_max：当某一样本点与所有种子点距离均大于此值时作为新的种子点\n",
    "    '''\n",
    "    node_set = []                 # 存储所有的样本点\n",
    "    seed_set = []                 # 存储所有的种子点\n",
    "    \n",
    "    \n",
    "    # 将文件中的数据读取进来\n",
    "    with open(sample_file) as f:\n",
    "        for line in f.readlines():\n",
    "            line_split = line.split()\n",
    "            node_set.append([float(line_split[0]),float(line_split[1])])\n",
    "    \n",
    "    node_cluster = np.full(len(node_set), -1)    # 记录每个样本点所归为的类别\n",
    "    for i in range(k):                    # 选取初始的K个样本点为聚类种子点\n",
    "        seed_set.append(node_set[i])\n",
    "    \n",
    "    last_time_cluster = np.full(len(node_set), -1)     # 此变量记录上一次聚类的结果\n",
    "\n",
    "\n",
    "    # 定义计算两点间距离的函数\n",
    "    def distance(node_one, node_two):     \n",
    "        return math.sqrt(pow(node_one[0] - node_two[0], 2) + pow(node_one[1] - node_two[1], 2))\n",
    "    \n",
    "    \n",
    "    # 定义调整种子点的函数\n",
    "    def seed_select(seed, cluster):\n",
    "        control_seed = 1    # 控制种子点的选取变量，该变量取0的时候说明所有的种子点距离已经大于D_min\n",
    "        while(control_seed):\n",
    "            \n",
    "            for i in range(len(seed)):\n",
    "                tmp = 0         # 控制变量\n",
    "                for j in range(len(seed)):\n",
    "                    if(j <= i and i != len(seed) - 1):\n",
    "                        continue\n",
    "                    elif(i == len(seed) - 1):\n",
    "                        control_seed = 0\n",
    "                        tmp = 1\n",
    "                        break\n",
    "                    else:\n",
    "                        dis = distance(seed[i], seed[j])\n",
    "                        if(dis < D_min):\n",
    "                            centre = [(seed[i][0] + seed[j][0])/2,(seed[i][1] + seed[j][1])/2]\n",
    "\n",
    "                            del seed[i]\n",
    "\n",
    "                            del seed[j - 1]       # j必定大于i\n",
    "                            seed.append(centre)\n",
    "                            for k in range(len(cluster)):\n",
    "                                if(cluster[k] == i or cluster[k] == j):\n",
    "                                    cluster[k] = len(seed) - 1\n",
    "                                elif(i < cluster[k] < j):\n",
    "                                    cluster[k] -= 1\n",
    "                                elif(cluster[k] > j):\n",
    "                                    cluster[k] -= 2\n",
    "                            tmp = 1\n",
    "                            break\n",
    "                        else:\n",
    "                            continue\n",
    "                if(tmp):\n",
    "                    break\n",
    "        return seed, cluster\n",
    "    \n",
    "    \n",
    "    # 调整种子点\n",
    "    seed_set, node_cluster = seed_select(seed_set, node_cluster)\n",
    "    \n",
    "\n",
    "    # 以下为第一次聚类\n",
    "    for i in range(len(node_set)):\n",
    "        # 计算该样品点与所有种子点的距离\n",
    "        dis_to_seed = np.zeros(len(seed_set))\n",
    "        for j in range(len(seed_set)):\n",
    "            dis_to_seed[j] = distance(node_set[i], seed_set[j])\n",
    "        d_max_array = np.full_like(dis_to_seed, d_max)\n",
    "        \n",
    "        # 若该样品点与所有种子点距离均大于d_max则作为新的种子点\n",
    "        if((dis_to_seed >= d_max_array).all()):\n",
    "            seed_set.append(node_set[i])\n",
    "            node_cluster[i] = len(seed_set) - 1\n",
    "        else:        # 否则加入到距离最小的该类中，并以该类的几何中心作为新的种子点\n",
    "            min_index = np.argmin(dis_to_seed)\n",
    "            node_cluster[i] = min_index\n",
    "            num_of_cluster = 0\n",
    "            x = 0\n",
    "            y = 0\n",
    "            for k in range(i + 1):\n",
    "                if(node_cluster[k] == min_index):\n",
    "                    num_of_cluster += 1\n",
    "                    x += node_set[i][0]\n",
    "                    y += node_set[i][1]\n",
    "            x /= num_of_cluster\n",
    "            y /= num_of_cluster\n",
    "            seed_set[min_index] = [x, y]\n",
    "            \n",
    "        # 调整聚类种子点后再考虑下一个样本点\n",
    "        seed_set, node_cluster = seed_select(seed_set, node_cluster)      \n",
    "    \n",
    "    \n",
    "    # 画出第一次聚类结果\n",
    "    print(\"首次聚类结果：\")\n",
    "    Graph(node_set, node_cluster)\n",
    "    \n",
    "    \n",
    "    # 进行聚类迭代，当此次聚类与上一次聚类相同时，退出循环\n",
    "    while(not (last_time_cluster == node_cluster).all()):\n",
    "        last_time_cluster = node_cluster.copy()         # 上一次聚类的结果\n",
    "        \n",
    "        for i in range(len(node_set)):\n",
    "            # 计算该样品点与所有种子点的距离\n",
    "            dis_to_seed = np.zeros(len(seed_set))\n",
    "            for j in range(len(seed_set)):\n",
    "                dis_to_seed[j] = distance(node_set[i], seed_set[j])\n",
    "            d_max_array = np.full_like(dis_to_seed, d_max)\n",
    "        \n",
    "            # 若该样品点与所有种子点距离均大于d_max则作为新的种子点\n",
    "            if((dis_to_seed >= d_max_array).all()):\n",
    "                seed_set.append(node_set[i])\n",
    "                node_cluster[i] = len(seed_set) - 1\n",
    "            else:  \n",
    "                min_index = np.argmin(dis_to_seed)\n",
    "                node_cluster[i] = min_index\n",
    "         \n",
    "        # 调整种子点为当前类的几何中心\n",
    "        for i in range(len(seed_set)):\n",
    "            x = 0\n",
    "            y = 0\n",
    "            node_num_cluster = 0\n",
    "            for j in range(len(node_cluster)):\n",
    "                if(node_cluster[j] == i):\n",
    "                    x += node_set[j][0]\n",
    "                    y += node_set[j][1]\n",
    "                    node_num_cluster += 1\n",
    "            x /= node_num_cluster\n",
    "            y /= node_num_cluster\n",
    "            seed_set[i] = [x, y]\n",
    "            \n",
    "        # 调整种子点后进行下一轮迭代\n",
    "        seed_set, node_cluster = seed_select(seed_set, node_cluster)\n",
    "\n",
    "        \n",
    "    # 最终聚类结果\n",
    "    print(\"最终聚类结果：\")\n",
    "    Graph(node_set, node_cluster) "
   ]
  },
  {
   "cell_type": "code",
   "execution_count": 36,
   "metadata": {},
   "outputs": [
    {
     "name": "stdout",
     "output_type": "stream",
     "text": [
      "首次聚类结果：\n"
     ]
    },
    {
     "data": {
      "image/png": "[encoded data removed]",
      "text/plain": [
       "<matplotlib.figure.Figure at 0x2116e3689b0>"
      ]
     },
     "metadata": {},
     "output_type": "display_data"
    },
    {
     "name": "stdout",
     "output_type": "stream",
     "text": [
      "最终聚类结果：\n"
     ]
    },
    {
     "data": {
      "image/png": "[encoded data removed]",
      "text/plain": [
       "<matplotlib.figure.Figure at 0x2116e398ac8>"
      ]
     },
     "metadata": {},
     "output_type": "display_data"
    }
   ],
   "source": [
    "sample_file = r\"C:\\Users\\hzauz\\Desktop\\BioinformaticsProjectData\\K-means data.txt\"\n",
    "kmeans(sample_file,3,3,4)"
   ]
  },
  {
   "cell_type": "markdown",
   "metadata": {},
   "source": [
    "6、从给定的基因组fna文件中找出所有＞90bp的ORFs，翻译起始位点仅用ATG，翻译终止位点TAA，TAG，TGA"
   ]
  },
  {
   "cell_type": "code",
   "execution_count": 37,
   "metadata": {},
   "outputs": [],
   "source": [
    "def FindORFs(FNAfile, t):\n",
    "    '''\n",
    "    此函数实现从给定的基因组fna文件中找出所有>90bp的ORFs，无返回值，结果输出到相应的文件中\n",
    "    参数:\n",
    "    FNAfile：表示给定的fna文件的路径\n",
    "    t：代表阈值，即>t bp\n",
    "    '''\n",
    "    chromosome = ''                         # 存储第一列有关信息\n",
    "    DNA = ''                                # 存储正链DNA\n",
    "    cDNA = ''                               # 存储负链DNA\n",
    "    with open(FNAfile) as fna:\n",
    "        # 以下为读取fna文件操作\n",
    "        is_first_line = True\n",
    "        for line in fna.readlines():\n",
    "            if(is_first_line):\n",
    "                chromosome = line\n",
    "                is_first_line = False\n",
    "                continue\n",
    "            DNA += line.strip()\n",
    "        for i in DNA:\n",
    "            if i == 'A':\n",
    "                cDNA += 'T'\n",
    "            elif i == 'T':\n",
    "                cDNA += 'A'\n",
    "            elif i == 'C':\n",
    "                cDNA += 'G'\n",
    "            elif i == 'G':\n",
    "                cDNA += 'C'\n",
    "        cDNA = cDNA[::-1]\n",
    "        DNA_length = len(DNA)\n",
    "    \n",
    "    DNA_ORFs_File = r\"C:\\Users\\hzauz\\Desktop\\BioinformaticsProjectData\\data\\DNA_ORFs_File.txt\"\n",
    "    cDNA_ORFs_File = r\"C:\\Users\\hzauz\\Desktop\\BioinformaticsProjectData\\data\\cDNA_ORFs_File.txt\"\n",
    "    \n",
    "    DNA_ORFs_number = 0\n",
    "    cDNA_ORFs_number = 0\n",
    "    \n",
    "    with open(DNA_ORFs_File,\"w\") as f:\n",
    "        f.write(chromosome)\n",
    "        for i in range(DNA_length):\n",
    "            if(DNA[i:i+3] == 'ATG'):\n",
    "                for j in range(i+1, DNA_length):\n",
    "                    if(DNA[j:j+3] == 'TAA' or DNA[j:j+3] =='TGA' or DNA[j:j+3] == 'TAG'):\n",
    "                        if(((j+3-i)%3) != 0):\n",
    "                            continue\n",
    "                        elif(j+3-i > t):\n",
    "                            DNA_ORFs_number += 1\n",
    "                            f.write(DNA[i:j+3] + '\\n')\n",
    "                            break\n",
    "                        else:\n",
    "                            break\n",
    "    \n",
    "    with open(cDNA_ORFs_File,\"w\") as f:\n",
    "        f.write(chromosome)\n",
    "        for i in range(DNA_length):\n",
    "            if(cDNA[i:i+3] == 'ATG'):\n",
    "                surplus_cDNA_length = DNA_length - i - 1 \n",
    "                for j in range(i+1, DNA_length):\n",
    "                    if(cDNA[j:j+3] == 'TAA' or cDNA[j:j+3] =='TGA' or cDNA[j:j+3] == 'TAG'):\n",
    "                        if(((j+3-i)%3) != 0):\n",
    "                            continue\n",
    "                        elif(j+3-i > t):\n",
    "                            cDNA_ORFs_number += 1\n",
    "                            f.write(cDNA[i:j+3] + '\\n')\n",
    "                            break\n",
    "                        else:\n",
    "                            break\n",
    "                            \n",
    "    print(\"已完成寻找>\", t, \"bp ORFs工作 \\n\")\n",
    "    print(\"共找到：\", DNA_ORFs_number + cDNA_ORFs_number, \"个ORF序列 \\n\")\n",
    "    print(\"其中正链上有：\", DNA_ORFs_number, \"个ORF序列 \\n\")\n",
    "    print(\"其中负链上有：\", cDNA_ORFs_number, \"个ORF序列 \\n\")\n",
    "    print(\"正链上ORF序列存储于：\", DNA_ORFs_File, \"\\n\")\n",
    "    print(\"负链上ORF序列存储于：\", cDNA_ORFs_File, \"\\n\")"
   ]
  },
  {
   "cell_type": "code",
   "execution_count": 38,
   "metadata": {},
   "outputs": [
    {
     "name": "stdout",
     "output_type": "stream",
     "text": [
      "已完成寻找> 30 bp ORFs工作 \n",
      "\n",
      "共找到： 114282 个ORF序列 \n",
      "\n",
      "其中正链上有： 57149 个ORF序列 \n",
      "\n",
      "其中负链上有： 57133 个ORF序列 \n",
      "\n",
      "正链上ORF序列存储于： C:\\Users\\hzauz\\Desktop\\BioinformaticsProjectData\\data\\DNA_ORFs_File.txt \n",
      "\n",
      "负链上ORF序列存储于： C:\\Users\\hzauz\\Desktop\\BioinformaticsProjectData\\data\\cDNA_ORFs_File.txt \n",
      "\n",
      "已完成寻找> 60 bp ORFs工作 \n",
      "\n",
      "共找到： 84602 个ORF序列 \n",
      "\n",
      "其中正链上有： 42355 个ORF序列 \n",
      "\n",
      "其中负链上有： 42247 个ORF序列 \n",
      "\n",
      "正链上ORF序列存储于： C:\\Users\\hzauz\\Desktop\\BioinformaticsProjectData\\data\\DNA_ORFs_File.txt \n",
      "\n",
      "负链上ORF序列存储于： C:\\Users\\hzauz\\Desktop\\BioinformaticsProjectData\\data\\cDNA_ORFs_File.txt \n",
      "\n",
      "已完成寻找> 90 bp ORFs工作 \n",
      "\n",
      "共找到： 65609 个ORF序列 \n",
      "\n",
      "其中正链上有： 32900 个ORF序列 \n",
      "\n",
      "其中负链上有： 32709 个ORF序列 \n",
      "\n",
      "正链上ORF序列存储于： C:\\Users\\hzauz\\Desktop\\BioinformaticsProjectData\\data\\DNA_ORFs_File.txt \n",
      "\n",
      "负链上ORF序列存储于： C:\\Users\\hzauz\\Desktop\\BioinformaticsProjectData\\data\\cDNA_ORFs_File.txt \n",
      "\n",
      "已完成寻找> 120 bp ORFs工作 \n",
      "\n",
      "共找到： 53187 个ORF序列 \n",
      "\n",
      "其中正链上有： 26561 个ORF序列 \n",
      "\n",
      "其中负链上有： 26626 个ORF序列 \n",
      "\n",
      "正链上ORF序列存储于： C:\\Users\\hzauz\\Desktop\\BioinformaticsProjectData\\data\\DNA_ORFs_File.txt \n",
      "\n",
      "负链上ORF序列存储于： C:\\Users\\hzauz\\Desktop\\BioinformaticsProjectData\\data\\cDNA_ORFs_File.txt \n",
      "\n"
     ]
    }
   ],
   "source": [
    "FNAfile = r\"C:\\Users\\hzauz\\Desktop\\BioinformaticsProjectData\\data\\NC_006270.fna\"\n",
    "FindORFs(FNAfile, 30)\n",
    "FindORFs(FNAfile, 60)\n",
    "FindORFs(FNAfile, 90)\n",
    "FindORFs(FNAfile, 120)"
   ]
  },
  {
   "cell_type": "markdown",
   "metadata": {},
   "source": [
    "7、编程实现课本第105页的HMM模型"
   ]
  },
  {
   "cell_type": "code",
   "execution_count": 2,
   "metadata": {},
   "outputs": [],
   "source": [
    "def HMM(Alignment, model):\n",
    "    '''\n",
    "    此函数实现隐马尔可夫模型\n",
    "    其中状态值有三种：Sunny, Cloudy, Rainy \n",
    "    特征值有四种：Dry, Dryish, Soggy, Damp\n",
    "    参数：\n",
    "    Alignment：表示输入的序列\n",
    "    model:\n",
    "        0表示评估问题：对于给定模型，求某个观察值序列的概率\n",
    "        1表示解码问题：对于给定模型和观察值序列，求可能性最大的状态序列\n",
    "    '''\n",
    "    state = ['Sunny', 'Cloudy', 'Rainy']           # 此为天气状态序列\n",
    "    seaweed = ['Dry', 'Dryish', 'Damp', 'Soggy']   # 此为海草状态序列\n",
    "    pi = np.mat([0.63, 0.17, 0.20])                # 存储起始概率\n",
    "    transfer = np.mat([[0.500, 0.250, 0.250],      # 存储状态转移矩阵\n",
    "                       [0.375, 0.250, 0.375],\n",
    "                       [0.125, 0.675, 0.200]])\n",
    "    output = np.mat([[0.60, 0.20, 0.15, 0.05],     # 存储输出矩阵，列分别代表Dry, Dryish, Damp, Soggy\n",
    "                     [0.25, 0.25, 0.25, 0.25],\n",
    "                     [0.05, 0.10, 0.35, 0.50]])\n",
    "    \n",
    "    # 以下为评估问题\n",
    "    if(model == 0):  \n",
    "        probability = 0         # 存储最终给定观察值序列的概率\n",
    "        alpha = np.multiply(pi.T, output[:, seaweed.index(Alignment[0])])\n",
    "        for i in range(1, len(Alignment)):\n",
    "            temp = np.dot(transfer.T, alpha)\n",
    "            alpha = np.multiply(temp, output[:, seaweed.index(Alignment[i])])\n",
    "        probability = np.sum(alpha)\n",
    "        return probability\n",
    "    \n",
    "    \n",
    "    # 以下为解码问题\n",
    "    if(model == 1):\n",
    "        pathway = []            # 存储最终可能性最大的状态序列\n",
    "        delta = np.multiply(pi, output[:, seaweed.index(Alignment[0])].T)\n",
    "        phi = []\n",
    "        \n",
    "        for i in range(1, len(Alignment)):\n",
    "            delta = np.multiply(delta.T, transfer)\n",
    "            temp = np.max(delta,axis=0)\n",
    "            phi.append(np.where(delta==np.max(delta,axis=0))[0][np.argsort(np.where(delta==np.max(delta,axis=0))[1])])\n",
    "            delta = np.multiply(temp, output[:, seaweed.index(Alignment[i])].T)\n",
    "        last = np.where(delta==np.max(delta))[1][0]\n",
    "        pathway.append(state[last])\n",
    "        for i in range(len(phi))[::-1]:\n",
    "            pathway.append(state[phi[i][last]])\n",
    "            last = phi[i][last]\n",
    "        print(\"最有可能的状态序列为：\",pathway[::-1])\n",
    "        return pathway[::-1]"
   ]
  },
  {
   "cell_type": "code",
   "execution_count": 45,
   "metadata": {},
   "outputs": [
    {
     "name": "stdout",
     "output_type": "stream",
     "text": [
      "最有可能的状态序列为： ['Sunny', 'Cloudy', 'Rainy', 'Cloudy']\n"
     ]
    },
    {
     "data": {
      "text/plain": [
       "['Sunny', 'Cloudy', 'Rainy', 'Cloudy']"
      ]
     },
     "execution_count": 45,
     "metadata": {},
     "output_type": "execute_result"
    }
   ],
   "source": [
    "Alignment = ['Dry', 'Damp', 'Soggy', 'Dryish']\n",
    "HMM(Alignment, 1)"
   ]
  }
 ],
 "metadata": {
  "kernelspec": {
   "display_name": "Python 3",
   "language": "python",
   "name": "python3"
  },
  "language_info": {
   "codemirror_mode": {
    "name": "ipython",
    "version": 3
   },
   "file_extension": ".py",
   "mimetype": "text/x-python",
   "name": "python",
   "nbconvert_exporter": "python",
   "pygments_lexer": "ipython3",
   "version": "3.6.4"
  }
 },
 "nbformat": 4,
 "nbformat_minor": 2
}
